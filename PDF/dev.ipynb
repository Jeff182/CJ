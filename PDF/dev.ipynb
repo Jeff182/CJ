{
 "cells": [
  {
   "cell_type": "code",
   "execution_count": 1,
   "metadata": {
    "collapsed": true
   },
   "outputs": [],
   "source": [
    "import sys,os\n",
    "import numpy as np\n",
    "import pylab as py\n",
    "from scipy.interpolate import interp2d\n",
    "from scipy.interpolate import RectBivariateSpline\n",
    "from scipy.interpolate import InterpolatedUnivariateSpline\n",
    "from scipy.integrate import quad,dblquad,fixed_quad\n",
    "from numba.decorators import jit, autojit"
   ]
  },
  {
   "cell_type": "code",
   "execution_count": 2,
   "metadata": {
    "collapsed": false
   },
   "outputs": [],
   "source": [
    "#DBC--this class will read and partition the ct10 PDS files\n",
    "#\ta seperate file will allow for calculations with the \n",
    "#\tPDFs.\n",
    "\n",
    "class CT10(object):\n",
    "\n",
    "  def __init__(self,root='../',filename='ct10.00.pds'):\n",
    "    \"\"\"\n",
    "    Read and parse CT10.pds. May work with other \n",
    "    CTEQ pds files, but there is no guarantee.\n",
    "    \"\"\"\n",
    "    self.D = {}\n",
    "    self.fname = root+'/'+filename\n",
    "    self._load_PDSfile()\n",
    "    self.get_interpolators()\n",
    "\n",
    "  def _load_PDSfile(self):\n",
    "    \n",
    "    #read file\n",
    "    stream0 = open(self.fname, 'r') #external file read in\n",
    "    inStream = stream0.readlines() #internal stream after read\n",
    "    stream0.close()\n",
    "      \n",
    "    # convert loaded file to floats\n",
    "    inStream = [i.strip() for i in inStream]\n",
    "    self.fitName = inStream[0] #name of pdf fit\n",
    "    \n",
    "    temp4 = inStream[4].replace('d', 'E') # fix fortran formating\n",
    "    temp4 = temp4.split()\n",
    "    \n",
    "    alphaQ = float(temp4[1]) #alph_S(M_Z) for this fit\n",
    "    Qalpha = float(temp4[2]) # M_Z \n",
    "    self.mxFlav = int(temp4[3]) # maximum number of flavors\n",
    "    self.valFlav = int(temp4[4]) # number of valance flavors\n",
    "    #a, q, m, v = map(float, temp4) #LOOK UP MAP COMMAND\n",
    "    #A, B, C, D, = ARRAY # EXTRA COMMA FOR DIFFERENT SIZED ARRAYS\n",
    "    temp6 = inStream[6].split() \n",
    "    nx = int(temp6[0]) # number of x points in grid\n",
    "    nt = int(temp6[1]) # number of qpoints in grid\n",
    "    ng = int(temp6[3]) # number of additional lines for fit parameters\n",
    "    startLine = 10 + ng # MAY NOT BE NECCESSARY\n",
    "    stopLine = startLine+nt # MAY NOT BE NECCESSARY\n",
    "    tempXX = inStream[startLine].split()\n",
    "    self.qMin = float(tempXX[0])\n",
    "    self.qMax = float(tempXX[1])\n",
    "    \n",
    "    # populate list of Q values\n",
    "    qList=[None]*(nt + 1)\n",
    "    for q in range(0, len(qList)):\n",
    "      qtemp = inStream[startLine + q].split()\n",
    "      qList[q] = float(qtemp[0])\n",
    "      \n",
    "    #populate list of x values\n",
    "    xMinMax = inStream[stopLine + 2].split()\n",
    "    self.xMin = float(xMinMax[0])\n",
    "    xCount = 1 # set to one because of artificial zero point\n",
    "    xLineCount = 0\n",
    "    xList = [float(0.0)] # artificial zero to get number of x points correct\n",
    "    firstXline = stopLine + 3\n",
    "    \n",
    "    while xCount < nx:\n",
    "      tempXline = inStream[firstXline + xLineCount].split()\n",
    "      xLineLength = len(tempXline)\n",
    "      #tempXpts = [None]*xLineLength\n",
    "      for xpt in range(0, xLineLength):\n",
    "        xList.append(float(tempXline[xpt]))\n",
    "      xLineCount = xLineCount + 1\n",
    "      xCount = xCount + xLineLength\n",
    "      \n",
    "    #populate PDF grid\n",
    "    firstGridLine = firstXline + xLineCount+1\n",
    "    pdfGrid = []\n",
    "    pdfCount = 0\n",
    "    pdfLineCount = 0\n",
    "    numBlocks = (nx + 1)*(nt + 1)\n",
    "    numFlav = self.mxFlav + 1 + self.valFlav\n",
    "    numPoints = numBlocks*numFlav\n",
    "    \n",
    "    while pdfCount < numPoints:\n",
    "      tempPDFline = inStream[firstGridLine + pdfLineCount].split()\n",
    "      pdfLineLength = len(tempPDFline)\n",
    "      for  gridpt in range(0, pdfLineLength):\n",
    "        pdfGrid.append(float(tempPDFline[gridpt]))\n",
    "      pdfLineCount = pdfLineCount + 1\n",
    "      pdfCount = pdfCount + pdfLineLength\n",
    "      \n",
    "    outGrid = np.reshape(pdfGrid, (numFlav, nt + 1, nx + 1))\n",
    "    self.fileArray = [xList, qList, outGrid]\n",
    "    \n",
    "  def displayName(self):\n",
    "    \"\"\"displayName(): Returns basic infromation about the loaded PDF grid.\"\"\"\n",
    "    s = 'The file contains PDF set ' + repr(self.fitName)\n",
    "    t = ' and contains ' + repr(self.mxFlav) \n",
    "    r = ' flavors and ' + repr(self.valFlav)\n",
    "    i = ' valance flavors. '\n",
    "    print s + t + r + i \n",
    "    #s = \"{} and {} suck\".format(\"Flo\", \"Ben\")\n",
    "\n",
    "  def _findPartonIndex(self):\n",
    "    if self.ipart >= -self.mxFlav and self.ipart <= self.valFlav:\n",
    "      self.ipart = self.mxFlav + self.ipart \n",
    "    else:\n",
    "      self.ipart = self.mxFlav - self.ipart \n",
    "      \n",
    "  def _pdfInternal(self, iFlav, xPoint, qPoint):\n",
    "    if abs(iFlav) > self.mxFlav:\n",
    "      out = float(0.0)\n",
    "    \n",
    "    else:\n",
    "      self.ipart = iFlav\n",
    "      self._findPartonIndex()\n",
    "      xlist = self.fileArray[0]\n",
    "      qlist = self.fileArray[1]\n",
    "      grid = self.fileArray[2][self.ipart] # find grid for parton\n",
    "      outFunc = RectBivariateSpline(qlist, xlist, grid, kx=1,ky=1)\n",
    "      out = outFunc(qPoint,xPoint)\n",
    "    \n",
    "    return out[0][0]\n",
    "  \n",
    "  def deprecated_get_pdf(self, iParton, x, Q):\n",
    "    \"\"\"\n",
    "    pdfFunction(iParton, x, Q): \n",
    "    returns the numerical result of the PDF, f(x,Q) \n",
    "    for parton number iParton in the CTEQ numbering scheme. \n",
    "    \"\"\"\n",
    "    return self._pdfInternal( iParton, x, Q)\n",
    "\n",
    "  def get_interpolators(self):\n",
    "    self.D={}\n",
    "    for iFlav in range(-5,6):\n",
    "      self.ipart = iFlav\n",
    "      self._findPartonIndex()\n",
    "      xlist = self.fileArray[0]\n",
    "      qlist = self.fileArray[1]\n",
    "      grid = self.fileArray[2][self.ipart] # find grid for parton\n",
    "      self.D[iFlav]= RectBivariateSpline(qlist, xlist, grid, kx=1,ky=1)\n",
    "\n",
    "  def get_pdf(self,iParton,x,Q):\n",
    "    return self.D[iParton](Q,x)[0][0]\n"
   ]
  },
  {
   "cell_type": "code",
   "execution_count": 5,
   "metadata": {
    "collapsed": false
   },
   "outputs": [
    {
     "name": "stdout",
     "output_type": "stream",
     "text": [
      "10 loops, best of 10: 5.79 µs per loop\n",
      "10 loops, best of 10: 318 µs per loop\n"
     ]
    }
   ],
   "source": [
    "ct10=CT10(root='./')\n",
    "%timeit -n10 -r10 ct10.get_pdf(2,0.5,10.0)\n",
    "%timeit -n10 -r10 ct10.deprecated_get_pdf(2,0.5,10.0)"
   ]
  },
  {
   "cell_type": "code",
   "execution_count": null,
   "metadata": {
    "collapsed": true
   },
   "outputs": [],
   "source": []
  },
  {
   "cell_type": "code",
   "execution_count": null,
   "metadata": {
    "collapsed": true
   },
   "outputs": [],
   "source": []
  },
  {
   "cell_type": "code",
   "execution_count": null,
   "metadata": {
    "collapsed": true
   },
   "outputs": [],
   "source": []
  }
 ],
 "metadata": {
  "kernelspec": {
   "display_name": "Python 2",
   "language": "python",
   "name": "python2"
  },
  "language_info": {
   "codemirror_mode": {
    "name": "ipython",
    "version": 2
   },
   "file_extension": ".py",
   "mimetype": "text/x-python",
   "name": "python",
   "nbconvert_exporter": "python",
   "pygments_lexer": "ipython2",
   "version": "2.7.10"
  }
 },
 "nbformat": 4,
 "nbformat_minor": 0
}
